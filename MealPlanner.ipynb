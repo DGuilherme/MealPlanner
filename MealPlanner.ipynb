{
  "nbformat": 4,
  "nbformat_minor": 0,
  "metadata": {
    "colab": {
      "provenance": [],
      "authorship_tag": "ABX9TyPMIE+WmyCIBfHTBSLdh77i",
      "include_colab_link": true
    },
    "kernelspec": {
      "name": "python3",
      "display_name": "Python 3"
    },
    "language_info": {
      "name": "python"
    }
  },
  "cells": [
    {
      "cell_type": "markdown",
      "metadata": {
        "id": "view-in-github",
        "colab_type": "text"
      },
      "source": [
        "<a href=\"https://colab.research.google.com/github/DGuilherme/MealPlanner/blob/main/MealPlanner.ipynb\" target=\"_parent\"><img src=\"https://colab.research.google.com/assets/colab-badge.svg\" alt=\"Open In Colab\"/></a>"
      ]
    },
    {
      "cell_type": "code",
      "source": [
        "from sklearn.feature_extraction.text import TfidfVectorizer\n",
        "from sklearn.metrics.pairwise import linear_kernel\n",
        "import pandas as pd\n"
      ],
      "metadata": {
        "id": "XmOHgFC5ZCwi"
      },
      "execution_count": 16,
      "outputs": []
    },
    {
      "cell_type": "code",
      "source": [
        "data = {\n",
        "    'food_id': range(1, 21),\n",
        "    'description': [\n",
        "        'Grilled Chicken Salad',\n",
        "        'Spaghetti Bolognese',\n",
        "        'Vegetable Stir-Fry',\n",
        "        'Cheeseburger',\n",
        "        'Greek Yogurt with Berries',\n",
        "        'Steak with Mashed Potatoes',\n",
        "        'Vegetable Curry',\n",
        "        'Sushi Platter',\n",
        "        'Caesar Salad',\n",
        "        'Pizza Margherita',\n",
        "        'Shrimp Scampi',\n",
        "        'Tofu Stir-Fry',\n",
        "        'Pasta Primavera',\n",
        "        'Eggplant Parmesan',\n",
        "        'Beef Tacos',\n",
        "        'Lobster Bisque',\n",
        "        'Caprese Salad',\n",
        "        'Chicken Quesadilla',\n",
        "        'Beef and Broccoli',\n",
        "        'Veggie Burger',\n",
        "    ],\n",
        "    'food_type': [\n",
        "        'salad', 'pasta', 'stir-fry', 'burger', 'dessert', 'steak', 'stir-fry', 'sushi', 'salad', 'pizza',\n",
        "        'seafood', 'stir-fry', 'pasta', 'vegetarian', 'tacos', 'soup', 'salad', 'quesadilla', 'stir-fry', 'burger',\n",
        "    ],\n",
        "    'calories': [350, 600, 400, 550, 200, 750, 450, 600, 350, 800, 400, 350, 500, 400, 450, 300, 350, 400, 450, 500],\n",
        "    'protein (g)': [30, 20, 15, 25, 10, 35, 18, 20, 25, 15, 20, 15, 18, 12, 22, 20, 15, 18, 22, 25],\n",
        "    'carbohydrates (g)': [10, 50, 30, 40, 25, 40, 35, 45, 20, 70, 30, 30, 60, 40, 25, 20, 15, 35, 30, 60],\n",
        "    'fat (g)': [15, 10, 8, 30, 5, 40, 15, 12, 20, 20, 15, 10, 15, 25, 15, 10, 10, 20, 15, 25],\n",
        "}\n",
        "\n",
        "food_data = pd.DataFrame(data)\n",
        "\n",
        "# To use the food item descriptions for content-based recommendation\n",
        "food_indices = pd.Series(food_data.index, index=food_data['description'])"
      ],
      "metadata": {
        "id": "_S6p75eTY_18"
      },
      "execution_count": 26,
      "outputs": []
    },
    {
      "cell_type": "code",
      "execution_count": 34,
      "metadata": {
        "id": "BDTEG07JYhpf"
      },
      "outputs": [],
      "source": [
        "# 4 opçoes para uma semana ou uma opçao para um mes #\n",
        "\n",
        "# Create a TF-IDF vectorizer for food descriptions\n",
        "tfidf_vectorizer = TfidfVectorizer(stop_words='english')\n",
        "tfidf_matrix = tfidf_vectorizer.fit_transform(food_data['description'])\n",
        "\n",
        "# Compute the cosine similarity between food items\n",
        "cosine_sim = linear_kernel(tfidf_matrix, tfidf_matrix)\n",
        "\n",
        "def get_recommendations_monthly(num_recommendations=14, cosine_sim=cosine_sim, food_data=food_data):\n",
        "    # Initialize an empty list to store recommended food items\n",
        "    recommended_food_items = []\n",
        "\n",
        "    # Initialize a set to keep track of food types already recommended\n",
        "    recommended_food_types = set()\n",
        "\n",
        "    # Loop through all food items and calculate their average similarity to other items\n",
        "    for idx in range(len(food_data)):\n",
        "        sim_scores = list(enumerate(cosine_sim[idx]))\n",
        "        sim_scores = sorted(sim_scores, key=lambda x: x[1], reverse=True)\n",
        "\n",
        "        # Exclude the first item (itself)\n",
        "        sim_scores = sim_scores[1:num_recommendations + 1]\n",
        "\n",
        "        # Get the indices of recommended food items\n",
        "        recommended_food_indices = [i[0] for i in sim_scores]\n",
        "\n",
        "        # Filter out food items that have the same type as already recommended\n",
        "        filtered_recommendations = [\n",
        "            food for food in food_data['description'].iloc[recommended_food_indices].to_list()\n",
        "            if food_data['food_type'].iloc[recommended_food_indices[0]] not in recommended_food_types\n",
        "        ]\n",
        "\n",
        "        # If there are any filtered recommendations, add them to the final list\n",
        "        if filtered_recommendations:\n",
        "            recommended_food_items.append(filtered_recommendations)\n",
        "\n",
        "            # Add the food type of the recommended item to the set\n",
        "            recommended_food_types.add(food_data['food_type'].iloc[recommended_food_indices[0]])\n",
        "\n",
        "    return recommended_food_items\n"
      ]
    },
    {
      "cell_type": "code",
      "source": [
        "# so uma opçao para a semana\n",
        "\n",
        "\n",
        "def get_recommendations_weekly(num_recommendations=14, cosine_sim=cosine_sim, food_data=food_data):\n",
        "    # Initialize an empty list to store recommended food items\n",
        "    recommended_food_items = []\n",
        "\n",
        "    # Create a set to keep track of recommended food types\n",
        "    recommended_food_types = set()\n",
        "\n",
        "    # Calculate the combined similarity scores for all food items\n",
        "    combined_scores = cosine_sim.sum(axis=0)\n",
        "\n",
        "    # Sort food items based on their combined similarity scores\n",
        "    sorted_indices = combined_scores.argsort()[::-1]\n",
        "\n",
        "    # Loop through the sorted indices to get recommendations\n",
        "    for idx in sorted_indices:\n",
        "        if food_data['food_type'].iloc[idx] not in recommended_food_types:\n",
        "            recommended_food_items.append(food_data['description'].iloc[idx])\n",
        "            recommended_food_types.add(food_data['food_type'].iloc[idx])\n",
        "\n",
        "        # If we have enough recommendations, stop\n",
        "        if len(recommended_food_items) >= num_recommendations:\n",
        "            break\n",
        "\n",
        "    return recommended_food_items"
      ],
      "metadata": {
        "id": "TpcHbTm1fHgs"
      },
      "execution_count": 35,
      "outputs": []
    },
    {
      "cell_type": "code",
      "source": [
        "get_recommendations_weekly()\n"
      ],
      "metadata": {
        "colab": {
          "base_uri": "https://localhost:8080/"
        },
        "id": "S6eCWeaqbh5x",
        "outputId": "a53a827c-eeed-4a80-813c-45eee8fe4829"
      },
      "execution_count": 36,
      "outputs": [
        {
          "output_type": "execute_result",
          "data": {
            "text/plain": [
              "['Vegetable Stir-Fry',\n",
              " 'Grilled Chicken Salad',\n",
              " 'Beef Tacos',\n",
              " 'Chicken Quesadilla',\n",
              " 'Cheeseburger',\n",
              " 'Greek Yogurt with Berries',\n",
              " 'Steak with Mashed Potatoes',\n",
              " 'Spaghetti Bolognese',\n",
              " 'Sushi Platter',\n",
              " 'Shrimp Scampi',\n",
              " 'Eggplant Parmesan',\n",
              " 'Lobster Bisque',\n",
              " 'Pizza Margherita']"
            ]
          },
          "metadata": {},
          "execution_count": 36
        }
      ]
    },
    {
      "cell_type": "code",
      "source": [
        "get_recommendations_monthly()"
      ],
      "metadata": {
        "colab": {
          "base_uri": "https://localhost:8080/"
        },
        "id": "-nLf4SpWfY8_",
        "outputId": "f40aca1b-490c-4a34-b6ae-1c20dea5dfeb"
      },
      "execution_count": 37,
      "outputs": [
        {
          "output_type": "execute_result",
          "data": {
            "text/plain": [
              "[['Chicken Quesadilla',\n",
              "  'Caesar Salad',\n",
              "  'Caprese Salad',\n",
              "  'Spaghetti Bolognese',\n",
              "  'Vegetable Stir-Fry',\n",
              "  'Cheeseburger',\n",
              "  'Greek Yogurt with Berries',\n",
              "  'Steak with Mashed Potatoes',\n",
              "  'Vegetable Curry',\n",
              "  'Sushi Platter',\n",
              "  'Pizza Margherita',\n",
              "  'Shrimp Scampi',\n",
              "  'Tofu Stir-Fry',\n",
              "  'Pasta Primavera'],\n",
              " ['Grilled Chicken Salad',\n",
              "  'Vegetable Stir-Fry',\n",
              "  'Cheeseburger',\n",
              "  'Greek Yogurt with Berries',\n",
              "  'Steak with Mashed Potatoes',\n",
              "  'Vegetable Curry',\n",
              "  'Sushi Platter',\n",
              "  'Caesar Salad',\n",
              "  'Pizza Margherita',\n",
              "  'Shrimp Scampi',\n",
              "  'Tofu Stir-Fry',\n",
              "  'Pasta Primavera',\n",
              "  'Eggplant Parmesan',\n",
              "  'Beef Tacos'],\n",
              " ['Tofu Stir-Fry',\n",
              "  'Vegetable Curry',\n",
              "  'Grilled Chicken Salad',\n",
              "  'Spaghetti Bolognese',\n",
              "  'Cheeseburger',\n",
              "  'Greek Yogurt with Berries',\n",
              "  'Steak with Mashed Potatoes',\n",
              "  'Sushi Platter',\n",
              "  'Caesar Salad',\n",
              "  'Pizza Margherita',\n",
              "  'Shrimp Scampi',\n",
              "  'Pasta Primavera',\n",
              "  'Eggplant Parmesan',\n",
              "  'Beef Tacos'],\n",
              " ['Beef Tacos',\n",
              "  'Grilled Chicken Salad',\n",
              "  'Spaghetti Bolognese',\n",
              "  'Vegetable Stir-Fry',\n",
              "  'Cheeseburger',\n",
              "  'Greek Yogurt with Berries',\n",
              "  'Steak with Mashed Potatoes',\n",
              "  'Vegetable Curry',\n",
              "  'Sushi Platter',\n",
              "  'Caesar Salad',\n",
              "  'Pizza Margherita',\n",
              "  'Shrimp Scampi',\n",
              "  'Tofu Stir-Fry',\n",
              "  'Pasta Primavera']]"
            ]
          },
          "metadata": {},
          "execution_count": 37
        }
      ]
    }
  ]
}